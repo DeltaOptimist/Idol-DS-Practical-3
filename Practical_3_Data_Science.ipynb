{
  "nbformat": 4,
  "nbformat_minor": 0,
  "metadata": {
    "colab": {
      "provenance": []
    },
    "kernelspec": {
      "name": "python3",
      "display_name": "Python 3"
    },
    "language_info": {
      "name": "python"
    }
  },
  "cells": [
    {
      "cell_type": "markdown",
      "source": [
        "A. Fixers Utilities:"
      ],
      "metadata": {
        "id": "gFf6vrwlRlwy"
      }
    },
    {
      "cell_type": "code",
      "execution_count": 2,
      "metadata": {
        "colab": {
          "base_uri": "https://localhost:8080/"
        },
        "id": "dWuKBOYYQ9AP",
        "outputId": "c0badb69-b65b-4b05-ebdf-31f8177e0b28"
      },
      "outputs": [
        {
          "output_type": "stream",
          "name": "stdout",
          "text": [
            "#1 Removing leading or lagging spaces from a data entry\n",
            ">  Data Science with too many spaces is bad!!!  <\n",
            "> Data Science with too many spaces is bad!!! <\n"
          ]
        }
      ],
      "source": [
        "#---------------------------- Program to Demonstrate Fixers utilities -------------------\n",
        "import string\n",
        "import datetime as dt\n",
        "\n",
        "\n",
        "# 1 Removing leading or lagging spaces from a data entry\n",
        "print('#1 Removing leading or lagging spaces from a data entry');\n",
        "baddata = \" Data Science with too many spaces is bad!!! \"\n",
        "print('>',baddata,'<')\n",
        "cleandata=baddata.strip()\n",
        "print('>',cleandata,'<')"
      ]
    },
    {
      "cell_type": "code",
      "source": [
        "# 2 Removing nonprintable characters from a data entry\n",
        "print('#2 Removing nonprintable characters from a data entry')\n",
        "printable = set(string.printable)\n",
        "\n",
        "baddata = \"Data\\x00Science with\\x02 funny characters is \\x10bad!!!\"\n",
        "cleandata=' '.join(filter(lambda x: x in string.printable,baddata))\n",
        "\n",
        "print('Bad Data : ',baddata);\n",
        "print('Clean Data : ',cleandata)\n"
      ],
      "metadata": {
        "colab": {
          "base_uri": "https://localhost:8080/"
        },
        "id": "Z8XLcAOERLW1",
        "outputId": "fdcfa0c4-041f-44e6-8a32-f4acb966304e"
      },
      "execution_count": 3,
      "outputs": [
        {
          "output_type": "stream",
          "name": "stdout",
          "text": [
            "#2 Removing nonprintable characters from a data entry\n",
            "Bad Data :  Data\u0000Science with\u0002 funny characters is \u0010bad!!!\n",
            "Clean Data :  D a t a S c i e n c e   w i t h   f u n n y   c h a r a c t e r s   i s   b a d ! ! !\n"
          ]
        }
      ]
    },
    {
      "cell_type": "code",
      "source": [
        "# 3 Reformatting data entry to match specific formatting criteria.\n",
        "# Convert YYYY/MM/DD to DD Month YYYY\n",
        "\n",
        "print('# 3 Reformatting data entry to match specific formatting criteria.')\n",
        "baddate = dt.date(2019, 10, 31)\n",
        "baddata=format(baddate,'%Y-%m-%d')\n",
        "\n",
        "gooddate = dt.datetime.strptime(baddata,'%Y-%m-%d')\n",
        "gooddata=format(gooddate,'%d %B %Y')\n",
        "\n",
        "print('Bad Data : ',baddata)\n",
        "print('Good Data : ',gooddata)\n"
      ],
      "metadata": {
        "colab": {
          "base_uri": "https://localhost:8080/"
        },
        "id": "LBd0ei_SRSta",
        "outputId": "5eeb986a-8591-4ae3-d25b-50ccce16e1d3"
      },
      "execution_count": 4,
      "outputs": [
        {
          "output_type": "stream",
          "name": "stdout",
          "text": [
            "# 3 Reformatting data entry to match specific formatting criteria.\n",
            "Bad Data :  2019-10-31\n",
            "Good Data :  31 October 2019\n"
          ]
        }
      ]
    },
    {
      "cell_type": "markdown",
      "source": [
        "B. Data Binning or Bucketing\n",
        "Binning is a data preprocessing technique used to reduce the effects of minor observation errors. Statistical \n",
        "data binning is a way to group a number of more or less continuous values into a smaller number of “bins.”\n"
      ],
      "metadata": {
        "id": "Y2PvZM1fRoMB"
      }
    },
    {
      "cell_type": "code",
      "source": [
        "import numpy as np\n",
        "import matplotlib.mlab as mlab\n",
        "import matplotlib.pyplot as plt\n",
        "import scipy.stats as stats\n",
        "np.random.seed(0)\n"
      ],
      "metadata": {
        "id": "cwqZmU7eRg7N"
      },
      "execution_count": 5,
      "outputs": []
    },
    {
      "cell_type": "code",
      "source": [
        "# example data\n",
        "\n",
        "mu = 90 # mean of distribution\n",
        "sigma = 25 # standard deviation of distribution\n",
        "x = mu + sigma * np.random.randn(5000)\n",
        "num_bins = 25\n",
        "fig, ax = plt.subplots()\n",
        "\n",
        "\n",
        "# the histogram of the data\n",
        "n, bins, patches = ax.hist(x, num_bins, density=1)\n",
        "\n",
        "# add a 'best fit' line\n",
        "y = stats.norm.pdf(bins, mu, sigma)\n",
        "\n",
        "# mlab.normpdf(bins, mu, sigma)\n",
        "ax.plot(bins, y, '--')\n",
        "ax.set_xlabel('Example Data')\n",
        "ax.set_ylabel('Probability density')\n",
        "sTitle= r'Histogram ' + str(len(x)) + ' entries into ' + str(num_bins) + ' Bins: $\\mu=' + str(mu) + '$, $\\sigma=' + str(sigma) + '$'\n",
        "ax.set_title(sTitle)\n",
        "fig.tight_layout()\n",
        "sPathFig='DU-Histogram.png'\n",
        "fig.savefig(sPathFig)\n",
        "plt.show()"
      ],
      "metadata": {
        "colab": {
          "base_uri": "https://localhost:8080/",
          "height": 297
        },
        "id": "j_C3quIDR2rQ",
        "outputId": "55d9b51f-c48a-4c02-d75a-b7e5ecde70b8"
      },
      "execution_count": 8,
      "outputs": [
        {
          "output_type": "display_data",
          "data": {
            "text/plain": [
              "<Figure size 432x288 with 1 Axes>"
            ],
            "image/png": "[encoded data removed]"
          },
          "metadata": {
            "needs_background": "light"
          }
        }
      ]
    },
    {
      "cell_type": "markdown",
      "source": [
        "C. Averaging of Data"
      ],
      "metadata": {
        "id": "NsC24nlES_qM"
      }
    },
    {
      "cell_type": "code",
      "source": [
        "import pandas as pd\n",
        "\n",
        "#InputFileName='IP_DATA_CORE.csv'\n",
        "#OutputFileName='Retrieve_Router_Location.csv'\n",
        "\n",
        "#Base='C:/VKHCG'\n",
        "\n",
        "#print('################################')\n",
        "#print('Working Base :',Base, ' using ')\n",
        "#print('################################')\n",
        "\n",
        "#sFileName=Base + '/01-Vermeulen/00-RawData/' + InputFileName\n",
        "#print('Loading :',sFileName)\n",
        "\n",
        "\n",
        "IP_DATA_ALL=pd.read_csv('/content/IP_DATA_CORE.csv',header=0,low_memory=False, usecols=['Country','Place Name','Latitude','Longitude'], encoding=\"latin-1\")\n",
        "IP_DATA_ALL.head()\n"
      ],
      "metadata": {
        "colab": {
          "base_uri": "https://localhost:8080/",
          "height": 206
        },
        "id": "qgsjYCYaSCN9",
        "outputId": "3c7e3a1f-268f-4a84-f2b5-d8eeb0dc45cf"
      },
      "execution_count": 10,
      "outputs": [
        {
          "output_type": "execute_result",
          "data": {
            "text/plain": [
              "  Country Place Name  Latitude  Longitude\n",
              "0      US   New York   40.7528   -73.9725\n",
              "1      US   New York   40.7528   -73.9725\n",
              "2      US   New York   40.7528   -73.9725\n",
              "3      US   New York   40.7528   -73.9725\n",
              "4      US   New York   40.7528   -73.9725"
            ],
            "text/html": [
              "\n",
              "  <div id=\"df-e2beacbe-4777-4270-8493-46aec79c04ce\">\n",
              "    <div class=\"colab-df-container\">\n",
              "      <div>\n",
              "<style scoped>\n",
              "    .dataframe tbody tr th:only-of-type {\n",
              "        vertical-align: middle;\n",
              "    }\n",
              "\n",
              "    .dataframe tbody tr th {\n",
              "        vertical-align: top;\n",
              "    }\n",
              "\n",
              "    .dataframe thead th {\n",
              "        text-align: right;\n",
              "    }\n",
              "</style>\n",
              "<table border=\"1\" class=\"dataframe\">\n",
              "  <thead>\n",
              "    <tr style=\"text-align: right;\">\n",
              "      <th></th>\n",
              "      <th>Country</th>\n",
              "      <th>Place Name</th>\n",
              "      <th>Latitude</th>\n",
              "      <th>Longitude</th>\n",
              "    </tr>\n",
              "  </thead>\n",
              "  <tbody>\n",
              "    <tr>\n",
              "      <th>0</th>\n",
              "      <td>US</td>\n",
              "      <td>New York</td>\n",
              "      <td>40.7528</td>\n",
              "      <td>-73.9725</td>\n",
              "    </tr>\n",
              "    <tr>\n",
              "      <th>1</th>\n",
              "      <td>US</td>\n",
              "      <td>New York</td>\n",
              "      <td>40.7528</td>\n",
              "      <td>-73.9725</td>\n",
              "    </tr>\n",
              "    <tr>\n",
              "      <th>2</th>\n",
              "      <td>US</td>\n",
              "      <td>New York</td>\n",
              "      <td>40.7528</td>\n",
              "      <td>-73.9725</td>\n",
              "    </tr>\n",
              "    <tr>\n",
              "      <th>3</th>\n",
              "      <td>US</td>\n",
              "      <td>New York</td>\n",
              "      <td>40.7528</td>\n",
              "      <td>-73.9725</td>\n",
              "    </tr>\n",
              "    <tr>\n",
              "      <th>4</th>\n",
              "      <td>US</td>\n",
              "      <td>New York</td>\n",
              "      <td>40.7528</td>\n",
              "      <td>-73.9725</td>\n",
              "    </tr>\n",
              "  </tbody>\n",
              "</table>\n",
              "</div>\n",
              "      <button class=\"colab-df-convert\" onclick=\"convertToInteractive('df-e2beacbe-4777-4270-8493-46aec79c04ce')\"\n",
              "              title=\"Convert this dataframe to an interactive table.\"\n",
              "              style=\"display:none;\">\n",
              "        \n",
              "  <svg xmlns=\"http://www.w3.org/2000/svg\" height=\"24px\"viewBox=\"0 0 24 24\"\n",
              "       width=\"24px\">\n",
              "    <path d=\"M0 0h24v24H0V0z\" fill=\"none\"/>\n",
              "    <path d=\"M18.56 5.44l.94 2.06.94-2.06 2.06-.94-2.06-.94-.94-2.06-.94 2.06-2.06.94zm-11 1L8.5 8.5l.94-2.06 2.06-.94-2.06-.94L8.5 2.5l-.94 2.06-2.06.94zm10 10l.94 2.06.94-2.06 2.06-.94-2.06-.94-.94-2.06-.94 2.06-2.06.94z\"/><path d=\"M17.41 7.96l-1.37-1.37c-.4-.4-.92-.59-1.43-.59-.52 0-1.04.2-1.43.59L10.3 9.45l-7.72 7.72c-.78.78-.78 2.05 0 2.83L4 21.41c.39.39.9.59 1.41.59.51 0 1.02-.2 1.41-.59l7.78-7.78 2.81-2.81c.8-.78.8-2.07 0-2.86zM5.41 20L4 18.59l7.72-7.72 1.47 1.35L5.41 20z\"/>\n",
              "  </svg>\n",
              "      </button>\n",
              "      \n",
              "  <style>\n",
              "    .colab-df-container {\n",
              "      display:flex;\n",
              "      flex-wrap:wrap;\n",
              "      gap: 12px;\n",
              "    }\n",
              "\n",
              "    .colab-df-convert {\n",
              "      background-color: #E8F0FE;\n",
              "      border: none;\n",
              "      border-radius: 50%;\n",
              "      cursor: pointer;\n",
              "      display: none;\n",
              "      fill: #1967D2;\n",
              "      height: 32px;\n",
              "      padding: 0 0 0 0;\n",
              "      width: 32px;\n",
              "    }\n",
              "\n",
              "    .colab-df-convert:hover {\n",
              "      background-color: #E2EBFA;\n",
              "      box-shadow: 0px 1px 2px rgba(60, 64, 67, 0.3), 0px 1px 3px 1px rgba(60, 64, 67, 0.15);\n",
              "      fill: #174EA6;\n",
              "    }\n",
              "\n",
              "    [theme=dark] .colab-df-convert {\n",
              "      background-color: #3B4455;\n",
              "      fill: #D2E3FC;\n",
              "    }\n",
              "\n",
              "    [theme=dark] .colab-df-convert:hover {\n",
              "      background-color: #434B5C;\n",
              "      box-shadow: 0px 1px 3px 1px rgba(0, 0, 0, 0.15);\n",
              "      filter: drop-shadow(0px 1px 2px rgba(0, 0, 0, 0.3));\n",
              "      fill: #FFFFFF;\n",
              "    }\n",
              "  </style>\n",
              "\n",
              "      <script>\n",
              "        const buttonEl =\n",
              "          document.querySelector('#df-e2beacbe-4777-4270-8493-46aec79c04ce button.colab-df-convert');\n",
              "        buttonEl.style.display =\n",
              "          google.colab.kernel.accessAllowed ? 'block' : 'none';\n",
              "\n",
              "        async function convertToInteractive(key) {\n",
              "          const element = document.querySelector('#df-e2beacbe-4777-4270-8493-46aec79c04ce');\n",
              "          const dataTable =\n",
              "            await google.colab.kernel.invokeFunction('convertToInteractive',\n",
              "                                                     [key], {});\n",
              "          if (!dataTable) return;\n",
              "\n",
              "          const docLinkHtml = 'Like what you see? Visit the ' +\n",
              "            '<a target=\"_blank\" href=https://colab.research.google.com/notebooks/data_table.ipynb>data table notebook</a>'\n",
              "            + ' to learn more about interactive tables.';\n",
              "          element.innerHTML = '';\n",
              "          dataTable['output_type'] = 'display_data';\n",
              "          await google.colab.output.renderOutput(dataTable, element);\n",
              "          const docLink = document.createElement('div');\n",
              "          docLink.innerHTML = docLinkHtml;\n",
              "          element.appendChild(docLink);\n",
              "        }\n",
              "      </script>\n",
              "    </div>\n",
              "  </div>\n",
              "  "
            ]
          },
          "metadata": {},
          "execution_count": 10
        }
      ]
    },
    {
      "cell_type": "code",
      "source": [
        "IP_DATA_ALL.rename(columns={'Place Name': 'Place_Name'}, inplace=True)\n",
        "\n",
        "AllData=IP_DATA_ALL[['Country', 'Place_Name','Latitude']]\n",
        "\n",
        "print(AllData)\n",
        "\n"
      ],
      "metadata": {
        "colab": {
          "base_uri": "https://localhost:8080/"
        },
        "id": "Nna0ry3cT2-k",
        "outputId": "ba68e1e3-9031-45de-950e-3f4fc095e386"
      },
      "execution_count": 12,
      "outputs": [
        {
          "output_type": "stream",
          "name": "stdout",
          "text": [
            "     Country Place_Name  Latitude\n",
            "0         US   New York   40.7528\n",
            "1         US   New York   40.7528\n",
            "2         US   New York   40.7528\n",
            "3         US   New York   40.7528\n",
            "4         US   New York   40.7528\n",
            "...      ...        ...       ...\n",
            "3557      DE     Munich   48.0915\n",
            "3558      DE     Munich   48.1833\n",
            "3559      DE     Munich   48.1000\n",
            "3560      DE     Munich   48.1480\n",
            "3561      DE     Munich   48.1480\n",
            "\n",
            "[3562 rows x 3 columns]\n"
          ]
        }
      ]
    },
    {
      "cell_type": "code",
      "source": [
        "MeanData=AllData.groupby(['Country', 'Place_Name'])['Latitude'].mean()\n",
        "\n",
        "print(MeanData)"
      ],
      "metadata": {
        "colab": {
          "base_uri": "https://localhost:8080/"
        },
        "id": "FpiGm8UDUexJ",
        "outputId": "87c42433-68a7-4718-bdba-6866448eda1c"
      },
      "execution_count": 13,
      "outputs": [
        {
          "output_type": "stream",
          "name": "stdout",
          "text": [
            "Country  Place_Name\n",
            "DE       Munich        48.143223\n",
            "GB       London        51.509406\n",
            "US       New York      40.747044\n",
            "Name: Latitude, dtype: float64\n"
          ]
        }
      ]
    },
    {
      "cell_type": "markdown",
      "source": [
        "D. Outlier Detection"
      ],
      "metadata": {
        "id": "EdVXZrlqUmUk"
      }
    },
    {
      "cell_type": "code",
      "source": [
        "import pandas as pd\n",
        "\n",
        "IP_DATA_ALL=pd.read_csv('/content/IP_DATA_CORE.csv',header=0,low_memory=False, usecols=['Country','Place Name','Latitude','Longitude'], encoding=\"latin-1\")\n",
        "\n",
        "IP_DATA_ALL.rename(columns={'Place Name': 'Place_Name'}, inplace=True)\n",
        "\n",
        "LondonData=IP_DATA_ALL.loc[IP_DATA_ALL['Place_Name']=='London']\n",
        "\n",
        "AllData=LondonData[['Country', 'Place_Name','Latitude']]\n",
        "print('All Data')\n",
        "print(AllData)\n",
        "\n"
      ],
      "metadata": {
        "colab": {
          "base_uri": "https://localhost:8080/"
        },
        "id": "rcfDrSsnUi3s",
        "outputId": "c0b80095-6ccc-4102-913a-1efdac88bd05"
      },
      "execution_count": 14,
      "outputs": [
        {
          "output_type": "stream",
          "name": "stdout",
          "text": [
            "All Data\n",
            "     Country Place_Name  Latitude\n",
            "1910      GB     London   51.5130\n",
            "1911      GB     London   51.5508\n",
            "1912      GB     London   51.5649\n",
            "1913      GB     London   51.5895\n",
            "1914      GB     London   51.5232\n",
            "...      ...        ...       ...\n",
            "3434      GB     London   51.5092\n",
            "3435      GB     London   51.5092\n",
            "3436      GB     London   51.5163\n",
            "3437      GB     London   51.5085\n",
            "3438      GB     London   51.5136\n",
            "\n",
            "[1502 rows x 3 columns]\n"
          ]
        }
      ]
    },
    {
      "cell_type": "code",
      "source": [
        "MeanData=AllData.groupby(['Country', 'Place_Name'])['Latitude'].mean()\n",
        "StdData=AllData.groupby(['Country', 'Place_Name'])['Latitude'].std()\n",
        "\n",
        "print('Outliers')\n",
        "UpperBound=float(MeanData+StdData)\n",
        "print('Higher than ', UpperBound)\n"
      ],
      "metadata": {
        "colab": {
          "base_uri": "https://localhost:8080/"
        },
        "id": "9heuEdJvU6Li",
        "outputId": "78159249-c1ea-42bf-d64c-7c0cb4d64b73"
      },
      "execution_count": 17,
      "outputs": [
        {
          "output_type": "stream",
          "name": "stdout",
          "text": [
            "Outliers\n",
            "Higher than  51.512635507867415\n"
          ]
        }
      ]
    },
    {
      "cell_type": "code",
      "source": [
        "\n",
        "OutliersHigher=AllData[AllData.Latitude>UpperBound]\n",
        "print(OutliersHigher)\n",
        "\n"
      ],
      "metadata": {
        "colab": {
          "base_uri": "https://localhost:8080/"
        },
        "id": "8pi4w7x1VFYf",
        "outputId": "6f206c55-255a-4538-f320-623de3e08a18"
      },
      "execution_count": 18,
      "outputs": [
        {
          "output_type": "stream",
          "name": "stdout",
          "text": [
            "     Country Place_Name  Latitude\n",
            "1910      GB     London   51.5130\n",
            "1911      GB     London   51.5508\n",
            "1912      GB     London   51.5649\n",
            "1913      GB     London   51.5895\n",
            "1914      GB     London   51.5232\n",
            "1916      GB     London   51.5491\n",
            "1919      GB     London   51.5161\n",
            "1920      GB     London   51.5198\n",
            "1921      GB     London   51.5198\n",
            "1923      GB     London   51.5237\n",
            "1924      GB     London   51.5237\n",
            "1925      GB     London   51.5237\n",
            "1926      GB     London   51.5237\n",
            "1927      GB     London   51.5232\n",
            "3436      GB     London   51.5163\n",
            "3438      GB     London   51.5136\n"
          ]
        }
      ]
    },
    {
      "cell_type": "code",
      "source": [
        "LowerBound=float(MeanData-StdData)\n",
        "\n",
        "print('Lower than ', LowerBound)\n",
        "\n"
      ],
      "metadata": {
        "colab": {
          "base_uri": "https://localhost:8080/"
        },
        "id": "7qnBO9tFVRfs",
        "outputId": "6ac5e1ba-85d1-4c5f-8bb6-cdd3ba3f91ee"
      },
      "execution_count": 19,
      "outputs": [
        {
          "output_type": "stream",
          "name": "stdout",
          "text": [
            "Lower than  51.506176875621264\n"
          ]
        }
      ]
    },
    {
      "cell_type": "code",
      "source": [
        "OutliersLower=AllData[AllData.Latitude<LowerBound]\n",
        "\n",
        "print(OutliersLower)\n"
      ],
      "metadata": {
        "colab": {
          "base_uri": "https://localhost:8080/"
        },
        "id": "YiDPiFX5VWIT",
        "outputId": "3f21e3d0-39ea-44dc-c082-109250c09660"
      },
      "execution_count": 20,
      "outputs": [
        {
          "output_type": "stream",
          "name": "stdout",
          "text": [
            "     Country Place_Name  Latitude\n",
            "1915      GB     London   51.4739\n"
          ]
        }
      ]
    },
    {
      "cell_type": "code",
      "source": [
        "print('Not Outliers')\n",
        "\n",
        "OutliersNot=AllData[(AllData.Latitude>=LowerBound) & (AllData.Latitude<=UpperBound)]\n",
        "print(OutliersNot)\n"
      ],
      "metadata": {
        "colab": {
          "base_uri": "https://localhost:8080/"
        },
        "id": "ZuwxmY4EVYW0",
        "outputId": "12ea62b8-eb12-4f0c-f3ce-b519368da1f4"
      },
      "execution_count": 21,
      "outputs": [
        {
          "output_type": "stream",
          "name": "stdout",
          "text": [
            "Not Outliers\n",
            "     Country Place_Name  Latitude\n",
            "1917      GB     London   51.5085\n",
            "1918      GB     London   51.5085\n",
            "1922      GB     London   51.5085\n",
            "1928      GB     London   51.5085\n",
            "1929      GB     London   51.5085\n",
            "...      ...        ...       ...\n",
            "3432      GB     London   51.5092\n",
            "3433      GB     London   51.5092\n",
            "3434      GB     London   51.5092\n",
            "3435      GB     London   51.5092\n",
            "3437      GB     London   51.5085\n",
            "\n",
            "[1485 rows x 3 columns]\n"
          ]
        }
      ]
    },
    {
      "cell_type": "markdown",
      "source": [
        "E. Logging "
      ],
      "metadata": {
        "id": "Isl6ggHrWuvR"
      }
    },
    {
      "cell_type": "code",
      "source": [
        "import sys\n",
        "import os\n",
        "import logging\n",
        "import uuid\n",
        "import shutil\n",
        "import time"
      ],
      "metadata": {
        "id": "f4XuJdonVZQK"
      },
      "execution_count": 22,
      "outputs": []
    },
    {
      "cell_type": "code",
      "source": [
        "sCompanies=['01-Vermeulen','02-Krennwallner','03-Hillman','04-Clark']\n",
        "sLayers=['01-Retrieve','02-Assess','03-Process','04-Transform','05-Organise','06-Report']\n",
        "sLevels=['debug','info','warning','error']"
      ],
      "metadata": {
        "id": "MvG_XVZeWxEu"
      },
      "execution_count": 23,
      "outputs": []
    },
    {
      "cell_type": "code",
      "source": [
        "Base = '/content' \n",
        "\n",
        "for sCompany in sCompanies:\n",
        "  sFileDir=Base + '/' + sCompany \n",
        "  if not os.path.exists(sFileDir):\n",
        "    os.makedirs(sFileDir)\n",
        "  for sLayer in sLayers:\n",
        "    log = logging.getLogger() # root logger\n",
        "  for hdlr in log.handlers[:]:\n",
        "    log.removeHandler(hdlr)# remove all old handlers\n",
        "  sFileDir=Base + '/' + sCompany + '/' + sLayer + '/Logging'\n",
        "  if os.path.exists(sFileDir):\n",
        "    shutil.rmtree(sFileDir)\n",
        "    time.sleep(2)\n",
        "  if not os.path.exists(sFileDir):\n",
        "    os.makedirs(sFileDir)\n",
        "  skey=str(uuid.uuid4()) \n",
        "  sLogFile=Base + '/' + sCompany + '/' + sLayer + '/Logging/Logging_'+skey+'.log'\n",
        "  print('Set up:',sLogFile)\n"
      ],
      "metadata": {
        "colab": {
          "base_uri": "https://localhost:8080/"
        },
        "id": "Ct8jD6xOWy4E",
        "outputId": "be2a366c-dbb7-413a-df3f-5dee3d18e93e"
      },
      "execution_count": 24,
      "outputs": [
        {
          "output_type": "stream",
          "name": "stdout",
          "text": [
            "Set up: /content/01-Vermeulen/06-Report/Logging/Logging_1dc389c2-329a-45ac-9d89-0f74fa8b7bda.log\n",
            "Set up: /content/02-Krennwallner/06-Report/Logging/Logging_5770e896-06a8-41dd-b03c-499eb7be3aeb.log\n",
            "Set up: /content/03-Hillman/06-Report/Logging/Logging_c3c8420d-9a24-4f32-b4a2-fae11fcf0115.log\n",
            "Set up: /content/04-Clark/06-Report/Logging/Logging_8bf9d671-62a8-4988-ba16-28d4d8125a63.log\n"
          ]
        }
      ]
    },
    {
      "cell_type": "code",
      "source": [
        "# set up logging to file - see previous section for more details\n",
        "logging.basicConfig(level=logging.DEBUG,\n",
        "format='%(asctime)s %(name)-12s %(levelname)-8s %(message)s',\n",
        "datefmt='%m-%d %H:%M',\n",
        "filename=sLogFile,\n",
        "filemode='w')\n",
        "# define a Handler which writes INFO messages or higher to the sys.stderr\n",
        "console = logging.StreamHandler()\n",
        "console.setLevel(logging.INFO)\n"
      ],
      "metadata": {
        "id": "H3BM9pPqXs5m"
      },
      "execution_count": 25,
      "outputs": []
    },
    {
      "cell_type": "code",
      "source": [
        "# set a format which is simpler for console use\n",
        "formatter = logging.Formatter('%(name)-12s: %(levelname)-8s %(message)s')\n",
        "# tell the handler to use this format\n",
        "console.setFormatter(formatter)\n",
        "# add the handler to the root logger\n",
        "logging.getLogger('').addHandler(console)\n",
        "# Now, we can log to the root logger, or any other logger. First the root...\n",
        "logging.info('Practical Data Science is fun!.')"
      ],
      "metadata": {
        "colab": {
          "base_uri": "https://localhost:8080/"
        },
        "id": "dNRZWlcpYAG-",
        "outputId": "a49f3c48-fae6-4959-a7cd-a082e534ae89"
      },
      "execution_count": 26,
      "outputs": [
        {
          "output_type": "stream",
          "name": "stderr",
          "text": [
            "root        : INFO     Practical Data Science is fun!.\n"
          ]
        }
      ]
    },
    {
      "cell_type": "code",
      "source": [
        "for sLevel in sLevels:\n",
        "  sApp='Apllication-'+ sCompany + '-' + sLayer + '-' + sLevel\n",
        "  logger = logging.getLogger(sApp)\n",
        "  if sLevel == 'debug': \n",
        "    logger.debug('Practical Data Science logged a debugging message.')\n",
        "  if sLevel == 'info': \n",
        "    logger.info('Practical Data Science logged information message.')\n",
        "  if sLevel == 'warning': \n",
        "    logger.warning('Practical Data Science logged a warning message.')\n",
        "  if sLevel == 'error': \n",
        "    logger.error('Practical Data Science logged an error message.')"
      ],
      "metadata": {
        "colab": {
          "base_uri": "https://localhost:8080/"
        },
        "id": "6_H-BquOYGMA",
        "outputId": "8c00bf8b-f681-4a7b-c22a-33009c396970"
      },
      "execution_count": 27,
      "outputs": [
        {
          "output_type": "stream",
          "name": "stderr",
          "text": [
            "Apllication-04-Clark-06-Report-info: INFO     Practical Data Science logged information message.\n",
            "Apllication-04-Clark-06-Report-warning: WARNING  Practical Data Science logged a warning message.\n",
            "Apllication-04-Clark-06-Report-error: ERROR    Practical Data Science logged an error message.\n"
          ]
        }
      ]
    },
    {
      "cell_type": "code",
      "source": [],
      "metadata": {
        "id": "Xr-Ei4yHYWYb"
      },
      "execution_count": null,
      "outputs": []
    }
  ]
}